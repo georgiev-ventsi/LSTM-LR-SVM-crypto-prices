{
 "cells": [
  {
   "cell_type": "code",
   "execution_count": 1,
   "id": "f8813a3b",
   "metadata": {},
   "outputs": [],
   "source": [
    "%matplotlib inline\n",
    "\n",
    "import numpy as np\n",
    "import pandas as pd\n",
    "import pandas_datareader as web\n",
    "import matplotlib.pyplot as plt\n",
    "import datetime as dt\n",
    "from matplotlib.pyplot import figure\n",
    "from sklearn.preprocessing import MinMaxScaler\n",
    "\n",
    "from tensorflow.keras.layers import LSTM, Dense, Dropout\n",
    "from tensorflow.keras.models import Sequential\n",
    "\n",
    "from sklearn.linear_model import LinearRegression\n",
    "from sklearn.svm import SVR\n",
    "from sklearn.model_selection import train_test_split"
   ]
  },
  {
   "cell_type": "code",
   "execution_count": 2,
   "id": "1866d02e",
   "metadata": {},
   "outputs": [],
   "source": [
    "crypto_currency = 'BTC'\n",
    "against_currency = 'USD'\n",
    "\n",
    "# Colect data\n",
    "start = dt.datetime(2016,1,1)\n",
    "end = dt.datetime.now()\n",
    "\n",
    "data = web.DataReader(f'{crypto_currency}-{against_currency}', 'yahoo', start, end)"
   ]
  },
  {
   "cell_type": "code",
   "execution_count": 3,
   "id": "db7a2a3b",
   "metadata": {
    "scrolled": true
   },
   "outputs": [
    {
     "data": {
      "text/html": [
       "<div>\n",
       "<style scoped>\n",
       "    .dataframe tbody tr th:only-of-type {\n",
       "        vertical-align: middle;\n",
       "    }\n",
       "\n",
       "    .dataframe tbody tr th {\n",
       "        vertical-align: top;\n",
       "    }\n",
       "\n",
       "    .dataframe thead th {\n",
       "        text-align: right;\n",
       "    }\n",
       "</style>\n",
       "<table border=\"1\" class=\"dataframe\">\n",
       "  <thead>\n",
       "    <tr style=\"text-align: right;\">\n",
       "      <th></th>\n",
       "      <th>High</th>\n",
       "      <th>Low</th>\n",
       "      <th>Open</th>\n",
       "      <th>Close</th>\n",
       "      <th>Volume</th>\n",
       "      <th>Adj Close</th>\n",
       "    </tr>\n",
       "    <tr>\n",
       "      <th>Date</th>\n",
       "      <th></th>\n",
       "      <th></th>\n",
       "      <th></th>\n",
       "      <th></th>\n",
       "      <th></th>\n",
       "      <th></th>\n",
       "    </tr>\n",
       "  </thead>\n",
       "  <tbody>\n",
       "    <tr>\n",
       "      <th>2021-11-10</th>\n",
       "      <td>68789.625000</td>\n",
       "      <td>63208.113281</td>\n",
       "      <td>66953.335938</td>\n",
       "      <td>64995.230469</td>\n",
       "      <td>4.873083e+10</td>\n",
       "      <td>64995.230469</td>\n",
       "    </tr>\n",
       "    <tr>\n",
       "      <th>2021-11-11</th>\n",
       "      <td>65579.015625</td>\n",
       "      <td>64180.488281</td>\n",
       "      <td>64978.890625</td>\n",
       "      <td>64949.960938</td>\n",
       "      <td>3.588063e+10</td>\n",
       "      <td>64949.960938</td>\n",
       "    </tr>\n",
       "    <tr>\n",
       "      <th>2021-11-12</th>\n",
       "      <td>65460.816406</td>\n",
       "      <td>62333.914062</td>\n",
       "      <td>64863.980469</td>\n",
       "      <td>64155.941406</td>\n",
       "      <td>3.608489e+10</td>\n",
       "      <td>64155.941406</td>\n",
       "    </tr>\n",
       "    <tr>\n",
       "      <th>2021-11-13</th>\n",
       "      <td>64915.675781</td>\n",
       "      <td>63303.734375</td>\n",
       "      <td>64158.121094</td>\n",
       "      <td>64469.527344</td>\n",
       "      <td>3.047423e+10</td>\n",
       "      <td>64469.527344</td>\n",
       "    </tr>\n",
       "    <tr>\n",
       "      <th>2021-11-14</th>\n",
       "      <td>65285.769531</td>\n",
       "      <td>64128.273438</td>\n",
       "      <td>64500.128906</td>\n",
       "      <td>64580.839844</td>\n",
       "      <td>2.738828e+10</td>\n",
       "      <td>64580.839844</td>\n",
       "    </tr>\n",
       "  </tbody>\n",
       "</table>\n",
       "</div>"
      ],
      "text/plain": [
       "                    High           Low          Open         Close  \\\n",
       "Date                                                                 \n",
       "2021-11-10  68789.625000  63208.113281  66953.335938  64995.230469   \n",
       "2021-11-11  65579.015625  64180.488281  64978.890625  64949.960938   \n",
       "2021-11-12  65460.816406  62333.914062  64863.980469  64155.941406   \n",
       "2021-11-13  64915.675781  63303.734375  64158.121094  64469.527344   \n",
       "2021-11-14  65285.769531  64128.273438  64500.128906  64580.839844   \n",
       "\n",
       "                  Volume     Adj Close  \n",
       "Date                                    \n",
       "2021-11-10  4.873083e+10  64995.230469  \n",
       "2021-11-11  3.588063e+10  64949.960938  \n",
       "2021-11-12  3.608489e+10  64155.941406  \n",
       "2021-11-13  3.047423e+10  64469.527344  \n",
       "2021-11-14  2.738828e+10  64580.839844  "
      ]
     },
     "execution_count": 3,
     "metadata": {},
     "output_type": "execute_result"
    }
   ],
   "source": [
    "data.tail()"
   ]
  },
  {
   "cell_type": "markdown",
   "id": "3457a82a",
   "metadata": {},
   "source": [
    "## LSTM"
   ]
  },
  {
   "cell_type": "code",
   "execution_count": 4,
   "id": "e91f59eb",
   "metadata": {},
   "outputs": [],
   "source": [
    "# prepare data\n",
    "\n",
    "scaler = MinMaxScaler(feature_range=(0,1))\n",
    "scaled_data = scaler.fit_transform(data['Close'].values.reshape(-1,1))\n",
    "\n",
    "\n",
    "prediction_days = 60 # look at this number of days so we can predict the futute\n",
    "future_day = 30\n",
    "\n",
    "\n",
    "# Prepare the train data\n",
    "x_train, y_train = [], []\n",
    "\n",
    "for x in range(prediction_days, len(scaled_data)-future_day):\n",
    "    x_train.append(scaled_data[x-prediction_days:x, 0]) # x in not included\n",
    "    y_train.append(scaled_data[x + future_day, 0])\n",
    "    \n",
    "x_train, y_train = np.array(x_train), np.array(y_train)\n",
    "x_train = np.reshape(x_train, (x_train.shape[0], x_train.shape[1], 1))"
   ]
  },
  {
   "cell_type": "code",
   "execution_count": 5,
   "id": "d9095c5b",
   "metadata": {
    "scrolled": true
   },
   "outputs": [
    {
     "name": "stdout",
     "output_type": "stream",
     "text": [
      "Epoch 1/25\n",
      "65/65 [==============================] - 3s 53ms/step - loss: 0.0114\n",
      "Epoch 2/25\n",
      "65/65 [==============================] - 4s 55ms/step - loss: 0.0081\n",
      "Epoch 3/25\n",
      "65/65 [==============================] - 4s 55ms/step - loss: 0.0061\n",
      "Epoch 4/25\n",
      "65/65 [==============================] - 4s 55ms/step - loss: 0.0050\n",
      "Epoch 5/25\n",
      "65/65 [==============================] - 4s 56ms/step - loss: 0.0048\n",
      "Epoch 6/25\n",
      "65/65 [==============================] - 4s 55ms/step - loss: 0.0057\n",
      "Epoch 7/25\n",
      "65/65 [==============================] - 4s 55ms/step - loss: 0.0040\n",
      "Epoch 8/25\n",
      "65/65 [==============================] - 4s 55ms/step - loss: 0.0044\n",
      "Epoch 9/25\n",
      "65/65 [==============================] - 4s 59ms/step - loss: 0.0043\n",
      "Epoch 10/25\n",
      "65/65 [==============================] - 4s 55ms/step - loss: 0.0044\n",
      "Epoch 11/25\n",
      "65/65 [==============================] - 4s 55ms/step - loss: 0.0036\n",
      "Epoch 12/25\n",
      "65/65 [==============================] - 4s 55ms/step - loss: 0.0041\n",
      "Epoch 13/25\n",
      "65/65 [==============================] - 4s 55ms/step - loss: 0.0040\n",
      "Epoch 14/25\n",
      "65/65 [==============================] - 4s 55ms/step - loss: 0.0036\n",
      "Epoch 15/25\n",
      "65/65 [==============================] - 4s 55ms/step - loss: 0.0051\n",
      "Epoch 16/25\n",
      "65/65 [==============================] - 4s 55ms/step - loss: 0.0035\n",
      "Epoch 17/25\n",
      "65/65 [==============================] - 4s 55ms/step - loss: 0.0036\n",
      "Epoch 18/25\n",
      "65/65 [==============================] - 4s 55ms/step - loss: 0.0031\n",
      "Epoch 19/25\n",
      "65/65 [==============================] - 4s 55ms/step - loss: 0.0042\n",
      "Epoch 20/25\n",
      "65/65 [==============================] - 4s 55ms/step - loss: 0.0033\n",
      "Epoch 21/25\n",
      "65/65 [==============================] - 4s 55ms/step - loss: 0.0029\n",
      "Epoch 22/25\n",
      "65/65 [==============================] - 4s 57ms/step - loss: 0.0036: 0s -\n",
      "Epoch 23/25\n",
      "65/65 [==============================] - 4s 64ms/step - loss: 0.0037\n",
      "Epoch 24/25\n",
      "65/65 [==============================] - 4s 57ms/step - loss: 0.0029\n",
      "Epoch 25/25\n",
      "65/65 [==============================] - 3s 53ms/step - loss: 0.0035\n"
     ]
    },
    {
     "data": {
      "text/plain": [
       "<tensorflow.python.keras.callbacks.History at 0x1ed7db9ca00>"
      ]
     },
     "execution_count": 5,
     "metadata": {},
     "output_type": "execute_result"
    }
   ],
   "source": [
    "# create neural network\n",
    "# downgrade numpy to 1.19.5\n",
    "\n",
    "\n",
    "model = Sequential()\n",
    "\n",
    "model.add(LSTM(units=50, return_sequences=True, input_shape=(x_train.shape[1],1)))\n",
    "model.add(Dropout(0.2)) #Float between 0 and 1. Fraction of the input units to drop.\n",
    "model.add(LSTM(units=50, return_sequences=True))\n",
    "model.add(Dropout(0.2)) \n",
    "model.add(LSTM(units=50))\n",
    "model.add(Dropout(0.2))\n",
    "model.add(Dense(units=1))\n",
    "\n",
    "model.compile(optimizer='adam', loss='mean_squared_error')\n",
    "model.fit(x_train, y_train, epochs=25, batch_size=32)"
   ]
  },
  {
   "cell_type": "code",
   "execution_count": 6,
   "id": "a1a2c838",
   "metadata": {},
   "outputs": [],
   "source": [
    "# Testing the model\n",
    "\n",
    "test_start = dt.datetime(2020,1,1)\n",
    "test_end = dt.datetime.now()\n",
    "\n",
    "test_data = web.DataReader(f'{crypto_currency}-{against_currency}', 'yahoo', test_start, test_end)\n",
    "actual_prices = test_data['Close'].values\n",
    "\n",
    "total_dataset = pd.concat((data['Close'], test_data['Close']), axis=0)"
   ]
  },
  {
   "cell_type": "code",
   "execution_count": 7,
   "id": "18660ff9",
   "metadata": {},
   "outputs": [],
   "source": [
    "model_inputs = total_dataset[len(total_dataset)-len(test_data) - prediction_days:].values\n",
    "model_inputs = model_inputs.reshape(-1,1)\n",
    "model_inputs = scaler.fit_transform(model_inputs)"
   ]
  },
  {
   "cell_type": "code",
   "execution_count": 8,
   "id": "6e03c9c5",
   "metadata": {},
   "outputs": [],
   "source": [
    "x_test = []\n",
    "\n",
    "for x in range(prediction_days, len(model_inputs)):\n",
    "    x_test.append(model_inputs[x-prediction_days:x, 0])\n",
    "    \n",
    "x_test = np.array(x_test)\n",
    "x_test = np.reshape(x_test, (x_test.shape[0], x_test.shape[1], 1))\n",
    "\n",
    "prediction_prices = model.predict(x_test)\n",
    "prediction_prices = scaler.inverse_transform(prediction_prices)"
   ]
  },
  {
   "cell_type": "code",
   "execution_count": 9,
   "id": "82b7204d",
   "metadata": {},
   "outputs": [
    {
     "data": {
      "image/png": "[encoded data removed]",
      "text/plain": [
       "<Figure size 960x720 with 1 Axes>"
      ]
     },
     "metadata": {
      "needs_background": "light"
     },
     "output_type": "display_data"
    }
   ],
   "source": [
    "figure(figsize=(8, 6), dpi=120)\n",
    "\n",
    "plt.plot(actual_prices, color='black', label='Actual Prices')\n",
    "plt.plot(prediction_prices, color='green', label='Predicted Prices')\n",
    "plt.title(f'{crypto_currency} price prediction')\n",
    "plt.xlabel('Time')\n",
    "plt.ylabel('Price in USD')\n",
    "plt.legend(loc='upper left')\n",
    "plt.grid(True)\n",
    "plt.show()"
   ]
  },
  {
   "cell_type": "code",
   "execution_count": 10,
   "id": "b4c56a6e",
   "metadata": {
    "scrolled": true
   },
   "outputs": [
    {
     "name": "stdout",
     "output_type": "stream",
     "text": [
      "WARNING:tensorflow:Model was constructed with shape (None, 60, 1) for input Tensor(\"lstm_input:0\", shape=(None, 60, 1), dtype=float32), but it was called on an input with incompatible shape (None, 59, 1).\n",
      "The actual price is: 64634.69 $\n",
      "According to this model, the price after 30 days would be: [[49131.906]] $\n"
     ]
    }
   ],
   "source": [
    "# Predict next day\n",
    "\n",
    "real_data = [model_inputs[len(model_inputs) + 1 - prediction_days:len(model_inputs) + 1, 0]]\n",
    "real_data = np.array(real_data)\n",
    "real_data = np.reshape(real_data, (real_data.shape[0], real_data.shape[1], 1))\n",
    "\n",
    "prediction = model.predict(real_data)\n",
    "prediction = scaler.inverse_transform(prediction)\n",
    "\n",
    "print(f'The actual price is: {round(actual_prices[len(actual_prices)-1], 2)} $')\n",
    "print(f'According to this model, the price after {future_day} days would be: {prediction} $')\n"
   ]
  },
  {
   "cell_type": "markdown",
   "id": "a6566e65",
   "metadata": {},
   "source": [
    "## Linear Regression"
   ]
  },
  {
   "cell_type": "code",
   "execution_count": 11,
   "id": "65b4f10e",
   "metadata": {},
   "outputs": [
    {
     "data": {
      "text/html": [
       "<div>\n",
       "<style scoped>\n",
       "    .dataframe tbody tr th:only-of-type {\n",
       "        vertical-align: middle;\n",
       "    }\n",
       "\n",
       "    .dataframe tbody tr th {\n",
       "        vertical-align: top;\n",
       "    }\n",
       "\n",
       "    .dataframe thead th {\n",
       "        text-align: right;\n",
       "    }\n",
       "</style>\n",
       "<table border=\"1\" class=\"dataframe\">\n",
       "  <thead>\n",
       "    <tr style=\"text-align: right;\">\n",
       "      <th></th>\n",
       "      <th>Adj Close</th>\n",
       "    </tr>\n",
       "    <tr>\n",
       "      <th>Date</th>\n",
       "      <th></th>\n",
       "    </tr>\n",
       "  </thead>\n",
       "  <tbody>\n",
       "    <tr>\n",
       "      <th>2016-01-01</th>\n",
       "      <td>434.334015</td>\n",
       "    </tr>\n",
       "    <tr>\n",
       "      <th>2016-01-02</th>\n",
       "      <td>433.437988</td>\n",
       "    </tr>\n",
       "    <tr>\n",
       "      <th>2016-01-03</th>\n",
       "      <td>430.010986</td>\n",
       "    </tr>\n",
       "    <tr>\n",
       "      <th>2016-01-04</th>\n",
       "      <td>433.091003</td>\n",
       "    </tr>\n",
       "    <tr>\n",
       "      <th>2016-01-05</th>\n",
       "      <td>431.959991</td>\n",
       "    </tr>\n",
       "  </tbody>\n",
       "</table>\n",
       "</div>"
      ],
      "text/plain": [
       "             Adj Close\n",
       "Date                  \n",
       "2016-01-01  434.334015\n",
       "2016-01-02  433.437988\n",
       "2016-01-03  430.010986\n",
       "2016-01-04  433.091003\n",
       "2016-01-05  431.959991"
      ]
     },
     "execution_count": 11,
     "metadata": {},
     "output_type": "execute_result"
    }
   ],
   "source": [
    "# get the adjusted close price\n",
    "\n",
    "lin_data = data[['Adj Close']]\n",
    "lin_data.head()\n"
   ]
  },
  {
   "cell_type": "code",
   "execution_count": 12,
   "id": "3af0777c",
   "metadata": {},
   "outputs": [],
   "source": [
    "# this variable stores the days in the future we want to predict\n",
    "\n",
    "forecast_out = future_day"
   ]
  },
  {
   "cell_type": "code",
   "execution_count": 13,
   "id": "fcaadc38",
   "metadata": {},
   "outputs": [
    {
     "name": "stderr",
     "output_type": "stream",
     "text": [
      "C:\\Users\\VGEORG~1\\AppData\\Local\\Temp/ipykernel_5824/2183354185.py:2: SettingWithCopyWarning: \n",
      "A value is trying to be set on a copy of a slice from a DataFrame.\n",
      "Try using .loc[row_indexer,col_indexer] = value instead\n",
      "\n",
      "See the caveats in the documentation: https://pandas.pydata.org/pandas-docs/stable/user_guide/indexing.html#returning-a-view-versus-a-copy\n",
      "  lin_data['Prediction'] = lin_data[['Adj Close']].shift(-forecast_out)\n"
     ]
    }
   ],
   "source": [
    "# create another column shifted 'n' units up\n",
    "lin_data['Prediction'] = lin_data[['Adj Close']].shift(-forecast_out)"
   ]
  },
  {
   "cell_type": "code",
   "execution_count": 14,
   "id": "9ad73312",
   "metadata": {
    "scrolled": true
   },
   "outputs": [
    {
     "data": {
      "text/html": [
       "<div>\n",
       "<style scoped>\n",
       "    .dataframe tbody tr th:only-of-type {\n",
       "        vertical-align: middle;\n",
       "    }\n",
       "\n",
       "    .dataframe tbody tr th {\n",
       "        vertical-align: top;\n",
       "    }\n",
       "\n",
       "    .dataframe thead th {\n",
       "        text-align: right;\n",
       "    }\n",
       "</style>\n",
       "<table border=\"1\" class=\"dataframe\">\n",
       "  <thead>\n",
       "    <tr style=\"text-align: right;\">\n",
       "      <th></th>\n",
       "      <th>Adj Close</th>\n",
       "      <th>Prediction</th>\n",
       "    </tr>\n",
       "    <tr>\n",
       "      <th>Date</th>\n",
       "      <th></th>\n",
       "      <th></th>\n",
       "    </tr>\n",
       "  </thead>\n",
       "  <tbody>\n",
       "    <tr>\n",
       "      <th>2021-11-10</th>\n",
       "      <td>64995.230469</td>\n",
       "      <td>NaN</td>\n",
       "    </tr>\n",
       "    <tr>\n",
       "      <th>2021-11-11</th>\n",
       "      <td>64949.960938</td>\n",
       "      <td>NaN</td>\n",
       "    </tr>\n",
       "    <tr>\n",
       "      <th>2021-11-12</th>\n",
       "      <td>64155.941406</td>\n",
       "      <td>NaN</td>\n",
       "    </tr>\n",
       "    <tr>\n",
       "      <th>2021-11-13</th>\n",
       "      <td>64469.527344</td>\n",
       "      <td>NaN</td>\n",
       "    </tr>\n",
       "    <tr>\n",
       "      <th>2021-11-14</th>\n",
       "      <td>64580.839844</td>\n",
       "      <td>NaN</td>\n",
       "    </tr>\n",
       "  </tbody>\n",
       "</table>\n",
       "</div>"
      ],
      "text/plain": [
       "               Adj Close  Prediction\n",
       "Date                                \n",
       "2021-11-10  64995.230469         NaN\n",
       "2021-11-11  64949.960938         NaN\n",
       "2021-11-12  64155.941406         NaN\n",
       "2021-11-13  64469.527344         NaN\n",
       "2021-11-14  64580.839844         NaN"
      ]
     },
     "execution_count": 14,
     "metadata": {},
     "output_type": "execute_result"
    }
   ],
   "source": [
    "lin_data.tail()"
   ]
  },
  {
   "cell_type": "code",
   "execution_count": 15,
   "id": "dd4aae69",
   "metadata": {},
   "outputs": [
    {
     "name": "stderr",
     "output_type": "stream",
     "text": [
      "C:\\Users\\VGEORG~1\\AppData\\Local\\Temp/ipykernel_5824/3583924510.py:4: FutureWarning: In a future version of pandas all arguments of DataFrame.drop except for the argument 'labels' will be keyword-only\n",
      "  X = np.array(lin_data.drop(['Prediction'],1))\n"
     ]
    },
    {
     "data": {
      "text/plain": [
       "array([[  434.33401489],\n",
       "       [  433.43798828],\n",
       "       [  430.01098633],\n",
       "       ...,\n",
       "       [57401.09765625],\n",
       "       [57321.5234375 ],\n",
       "       [61593.94921875]])"
      ]
     },
     "execution_count": 15,
     "metadata": {},
     "output_type": "execute_result"
    }
   ],
   "source": [
    "### Create the independent dataset (X)\n",
    "\n",
    "# create the dataframe to numpy array\n",
    "X = np.array(lin_data.drop(['Prediction'],1))\n",
    "\n",
    "# remove the last 'n' rows thats equals to 'frocast_out'\n",
    "X = X[:-forecast_out]\n",
    "\n",
    "X"
   ]
  },
  {
   "cell_type": "code",
   "execution_count": 16,
   "id": "ce2cff7f",
   "metadata": {},
   "outputs": [
    {
     "data": {
      "text/plain": [
       "array([  368.76699829,   373.05599976,   374.44799805, ...,\n",
       "       64155.94140625, 64469.52734375, 64580.83984375])"
      ]
     },
     "execution_count": 16,
     "metadata": {},
     "output_type": "execute_result"
    }
   ],
   "source": [
    "## Create the dependent dataset\n",
    "\n",
    "# create a dataframe as numpy array with all the values, incl. the NaNs\n",
    "y = np.array(lin_data['Prediction'])\n",
    "\n",
    "# get all the 'y' values except the last 'n' rows thats equals to 'frocast_out'\n",
    "y = y[:-forecast_out]\n",
    "\n",
    "y"
   ]
  },
  {
   "cell_type": "code",
   "execution_count": 17,
   "id": "e36714b6",
   "metadata": {},
   "outputs": [],
   "source": [
    "# Split the data to 80% training and 20% testing \n",
    "\n",
    "lin_x_train, lin_x_test, lin_y_train, lin_y_test = train_test_split(X, y, test_size=0.2)"
   ]
  },
  {
   "cell_type": "code",
   "execution_count": 18,
   "id": "3625b6ea",
   "metadata": {},
   "outputs": [
    {
     "data": {
      "text/plain": [
       "SVR(C=1000.0, gamma=0.1)"
      ]
     },
     "execution_count": 18,
     "metadata": {},
     "output_type": "execute_result"
    }
   ],
   "source": [
    "# Create and train Support Vectior Machine (Regressor)\n",
    "\n",
    "svr_rbf = SVR(kernel='rbf', C=1e3, gamma=0.1)\n",
    "svr_rbf.fit(lin_x_train, lin_y_train)"
   ]
  },
  {
   "cell_type": "code",
   "execution_count": 19,
   "id": "6f9b022c",
   "metadata": {},
   "outputs": [
    {
     "name": "stdout",
     "output_type": "stream",
     "text": [
      "SVM score: -0.07214463394505444\n"
     ]
    }
   ],
   "source": [
    "# Testing model: Scrore returns the coefficient of determination R^2 of the prediction.\n",
    "# The best possible score is 1.0\n",
    "\n",
    "svm_confidence = svr_rbf.score(lin_x_test, lin_y_test)\n",
    "print(f'SVM score: {svm_confidence}')\n"
   ]
  },
  {
   "cell_type": "code",
   "execution_count": 20,
   "id": "f156f5e9",
   "metadata": {},
   "outputs": [],
   "source": [
    "lr = LinearRegression()"
   ]
  },
  {
   "cell_type": "code",
   "execution_count": 21,
   "id": "85b82fa6",
   "metadata": {},
   "outputs": [
    {
     "data": {
      "text/plain": [
       "LinearRegression()"
      ]
     },
     "execution_count": 21,
     "metadata": {},
     "output_type": "execute_result"
    }
   ],
   "source": [
    "lr.fit(lin_x_train, lin_y_train)"
   ]
  },
  {
   "cell_type": "code",
   "execution_count": 22,
   "id": "1f464df9",
   "metadata": {},
   "outputs": [
    {
     "name": "stdout",
     "output_type": "stream",
     "text": [
      "Linaer Reg score: 0.9145607259951222\n"
     ]
    }
   ],
   "source": [
    "# Testing model: Scrore returns the coefficient of determination R^2 of the prediction.\n",
    "# The best possible score is 1.0\n",
    "\n",
    "lr_confidence = lr.score(lin_x_test, lin_y_test)\n",
    "print(f'Linaer Reg score: {lr_confidence}')"
   ]
  },
  {
   "cell_type": "code",
   "execution_count": 23,
   "id": "a806c2ec",
   "metadata": {},
   "outputs": [
    {
     "name": "stderr",
     "output_type": "stream",
     "text": [
      "C:\\Users\\VGEORG~1\\AppData\\Local\\Temp/ipykernel_5824/1918092244.py:3: FutureWarning: In a future version of pandas all arguments of DataFrame.drop except for the argument 'labels' will be keyword-only\n",
      "  x_forecast = np.array(lin_data.drop(['Prediction'], 1))[-forecast_out:]\n"
     ]
    },
    {
     "data": {
      "text/plain": [
       "array([[60892.1796875 ],\n",
       "       [61553.6171875 ],\n",
       "       [62026.078125  ],\n",
       "       [64261.9921875 ],\n",
       "       [65992.8359375 ],\n",
       "       [62210.171875  ],\n",
       "       [60692.265625  ],\n",
       "       [61393.6171875 ],\n",
       "       [60930.8359375 ],\n",
       "       [63039.82421875],\n",
       "       [60363.79296875],\n",
       "       [58482.38671875],\n",
       "       [60622.13671875],\n",
       "       [62227.96484375],\n",
       "       [61888.83203125],\n",
       "       [61318.95703125],\n",
       "       [61004.40625   ],\n",
       "       [63226.40234375],\n",
       "       [62970.046875  ],\n",
       "       [61452.23046875],\n",
       "       [61125.67578125],\n",
       "       [61527.48046875],\n",
       "       [63326.98828125],\n",
       "       [67566.828125  ],\n",
       "       [66971.828125  ],\n",
       "       [64995.23046875],\n",
       "       [64949.9609375 ],\n",
       "       [64155.94140625],\n",
       "       [64469.52734375],\n",
       "       [64580.83984375]])"
      ]
     },
     "execution_count": 23,
     "metadata": {},
     "output_type": "execute_result"
    }
   ],
   "source": [
    "# set x_forecast equal to the last 30 rows Adj Close of the original dataset\n",
    "\n",
    "x_forecast = np.array(lin_data.drop(['Prediction'], 1))[-forecast_out:]\n",
    "x_forecast"
   ]
  },
  {
   "cell_type": "code",
   "execution_count": 24,
   "id": "4a3cf6d2",
   "metadata": {
    "scrolled": true
   },
   "outputs": [
    {
     "data": {
      "text/plain": [
       "array([63443.04781294, 64126.85539953, 64615.29515904, 66926.82874898,\n",
       "       68716.21034203, 64805.6150349 , 63236.37257513, 63961.44413413,\n",
       "       63483.01143311, 65663.32656001, 62896.7908394 , 60951.75466106,\n",
       "       63163.87188061, 64824.00976913, 64473.4073463 , 63884.25894088,\n",
       "       63559.06992365, 65856.21483346, 65591.18931798, 64022.03974051,\n",
       "       63684.44084001, 64099.83472627, 65960.20262847, 70343.43558863,\n",
       "       69728.31244545, 67684.86544859, 67638.06488329, 66817.19128697,\n",
       "       67141.38282904, 67256.45996329])"
      ]
     },
     "execution_count": 24,
     "metadata": {},
     "output_type": "execute_result"
    }
   ],
   "source": [
    "# predict for the next 'n' days ahead with Linear regression\n",
    "\n",
    "lr_prediction = lr.predict(x_forecast)\n",
    "lr_prediction"
   ]
  },
  {
   "cell_type": "code",
   "execution_count": 25,
   "id": "df58a261",
   "metadata": {},
   "outputs": [
    {
     "data": {
      "text/plain": [
       "array([7374.33238885, 7374.33238885, 7374.33238885, 7374.33238885,\n",
       "       7374.33238885, 7374.33238885, 7375.13124447, 7374.33238885,\n",
       "       7374.33238885, 7374.33238885, 7374.33238885, 7374.33238885,\n",
       "       7374.33238885, 7374.33238885, 7374.33238885, 7374.33238885,\n",
       "       7374.33238885, 7374.33238885, 7374.33238885, 7374.33238885,\n",
       "       7374.33238885, 7374.33238885, 7374.33243747, 7374.33238885,\n",
       "       7374.33238885, 7374.33238885, 7374.33238885, 7374.33238885,\n",
       "       7374.33238885, 7374.33238885])"
      ]
     },
     "execution_count": 25,
     "metadata": {},
     "output_type": "execute_result"
    }
   ],
   "source": [
    "# predict for the next 'n' days ahead with SVM\n",
    "\n",
    "svm_prediction = svr_rbf.predict(x_forecast)\n",
    "svm_prediction"
   ]
  },
  {
   "cell_type": "code",
   "execution_count": 26,
   "id": "20a8b909",
   "metadata": {},
   "outputs": [
    {
     "name": "stdout",
     "output_type": "stream",
     "text": [
      "According to LSTM model, the price after 30 days would be: [[49131.906]] $\n"
     ]
    }
   ],
   "source": [
    "print(f'According to LSTM model, the price after {future_day} days would be: {prediction} $')\n"
   ]
  },
  {
   "cell_type": "code",
   "execution_count": 27,
   "id": "3f339b89",
   "metadata": {
    "scrolled": true
   },
   "outputs": [
    {
     "name": "stdout",
     "output_type": "stream",
     "text": [
      "The actual price is: 64634.69 $\n"
     ]
    }
   ],
   "source": [
    "print(f'The actual price is: {round(actual_prices[len(actual_prices)-1], 2)} $')"
   ]
  }
 ],
 "metadata": {
  "kernelspec": {
   "display_name": "Python 3 (ipykernel)",
   "language": "python",
   "name": "python3"
  },
  "language_info": {
   "codemirror_mode": {
    "name": "ipython",
    "version": 3
   },
   "file_extension": ".py",
   "mimetype": "text/x-python",
   "name": "python",
   "nbconvert_exporter": "python",
   "pygments_lexer": "ipython3",
   "version": "3.8.12"
  }
 },
 "nbformat": 4,
 "nbformat_minor": 5
}
